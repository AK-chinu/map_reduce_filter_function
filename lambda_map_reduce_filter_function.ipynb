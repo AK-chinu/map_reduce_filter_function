{
 "cells": [
  {
   "cell_type": "markdown",
   "id": "78458d6f-b392-4fd9-938c-c3c5a9b51e5b",
   "metadata": {},
   "source": [
    "## Q1. Create a python program to sort the given list of tuples based on integer value using a  lambda function.  \n",
    "[('Sachin Tendulkar', 34357), ('Ricky Ponting', 27483), ('Jack Kallis', 25534), ('Virat Kohli', 24936)] \n"
   ]
  },
  {
   "cell_type": "code",
   "execution_count": 26,
   "id": "7dc2ab48-b4f4-4b2f-807f-27ca713391e1",
   "metadata": {},
   "outputs": [],
   "source": [
    "runs=[('Sachin Tendulkar', 34357), ('Ricky Ponting', 27483), ('Jack Kallis', 25534), ('Virat Kohli', 24936)] "
   ]
  },
  {
   "cell_type": "code",
   "execution_count": 27,
   "id": "f2a6182b-8fdc-4576-94cc-76184085797a",
   "metadata": {},
   "outputs": [
    {
     "name": "stdout",
     "output_type": "stream",
     "text": [
      "my original mark  [('Sachin Tendulkar', 34357), ('Ricky Ponting', 27483), ('Jack Kallis', 25534), ('Virat Kohli', 24936)]\n"
     ]
    }
   ],
   "source": [
    "print(\"my original mark \",runs)\n",
    "runs.sort(key = lambda x: x[1])"
   ]
  },
  {
   "cell_type": "markdown",
   "id": "60ceaabc-ac9a-4b40-b966-faecdaab554c",
   "metadata": {},
   "source": [
    "## Q2. Write a Python Program to find the squares of all the numbers in the given list of integers using  lambda and map functions. \n",
    "[1, 2, 3, 4, 5, 6, 7, 8, 9, 10] \n"
   ]
  },
  {
   "cell_type": "code",
   "execution_count": 28,
   "id": "76d5a4bf-0d6f-4740-b178-66fcb9904ef8",
   "metadata": {},
   "outputs": [],
   "source": [
    "l=[1, 2, 3, 4, 5, 6, 7, 8, 9, 10]"
   ]
  },
  {
   "cell_type": "code",
   "execution_count": 45,
   "id": "ca23ebd7-4d91-423e-9d09-000ecf5f10b5",
   "metadata": {},
   "outputs": [
    {
     "data": {
      "text/plain": [
       "[1, 4, 9, 16, 25, 36, 49, 64, 81, 100]"
      ]
     },
     "execution_count": 45,
     "metadata": {},
     "output_type": "execute_result"
    }
   ],
   "source": [
    "list(map(lambda x:x**2 , l))"
   ]
  },
  {
   "cell_type": "markdown",
   "id": "88cd2019-2833-422f-93d7-c0c6ee64cf36",
   "metadata": {},
   "source": [
    "## Q3. Write a python program to convert the given list of integers into a tuple of strings. Use map and  lambda functions \n",
    "Given String: [1, 2, 3, 4, 5, 6, 7, 8, 9, 10] \n",
    "Expected output: ('1', '2', '3', '4', '5', '6', '7', '8', '9', '10') \n"
   ]
  },
  {
   "cell_type": "code",
   "execution_count": 42,
   "id": "d50c056b-6dbc-4720-9959-c667c31b4e64",
   "metadata": {},
   "outputs": [],
   "source": [
    "s=[1, 2, 3, 4, 5, 6, 7, 8, 9, 10]"
   ]
  },
  {
   "cell_type": "code",
   "execution_count": null,
   "id": "d3c1f24b-c43c-4517-904d-1a78e30b613c",
   "metadata": {},
   "outputs": [],
   "source": [
    "list(map(lambda x : str(x) , s ))"
   ]
  },
  {
   "cell_type": "markdown",
   "id": "5460bb85-40e2-4398-aa96-3aab80237a49",
   "metadata": {},
   "source": [
    "## Q4. Write a python program using reduce function to compute the product of a list containing numbers from 1 to 25."
   ]
  },
  {
   "cell_type": "code",
   "execution_count": 49,
   "id": "18e64244-b60c-41d0-805d-7b9bce70232b",
   "metadata": {},
   "outputs": [],
   "source": [
    "from functools import reduce"
   ]
  },
  {
   "cell_type": "code",
   "execution_count": 50,
   "id": "a943cc74-9a7e-44b4-b781-51a644e33531",
   "metadata": {},
   "outputs": [],
   "source": [
    "l1=[1,2,3,4,5,6,7,8,9,10,11,12,13,14,15,16,17,18,19,20,21,22,23,24,25]"
   ]
  },
  {
   "cell_type": "code",
   "execution_count": 53,
   "id": "144df7c5-11a7-4b0a-9cd3-9d31f2773b7e",
   "metadata": {},
   "outputs": [
    {
     "data": {
      "text/plain": [
       "15511210043330985984000000"
      ]
     },
     "execution_count": 53,
     "metadata": {},
     "output_type": "execute_result"
    }
   ],
   "source": [
    "reduce(lambda x , y : x*y , l1)"
   ]
  },
  {
   "cell_type": "markdown",
   "id": "7b62de80-c2ec-4756-ac40-4b32eeff2c21",
   "metadata": {},
   "source": [
    "## Q5. Write a python program to filter the numbers in a given list that are divisible by 2 and 3 using the  filter function. \n",
    "[2, 3, 6, 9, 27, 60, 90, 120, 55, 46] \n"
   ]
  },
  {
   "cell_type": "code",
   "execution_count": 54,
   "id": "52650b6d-5dc2-40e6-bc1e-758c1938a40f",
   "metadata": {},
   "outputs": [],
   "source": [
    "l2=[2, 3, 6, 9, 27, 60, 90, 120, 55, 46]"
   ]
  },
  {
   "cell_type": "code",
   "execution_count": 81,
   "id": "29b4f904-3595-4629-bd79-a79f6847c6c4",
   "metadata": {},
   "outputs": [
    {
     "data": {
      "text/plain": [
       "[6, 60, 90, 120]"
      ]
     },
     "execution_count": 81,
     "metadata": {},
     "output_type": "execute_result"
    }
   ],
   "source": [
    "list(filter(fun ,l2))"
   ]
  },
  {
   "cell_type": "code",
   "execution_count": 75,
   "id": "07de722c-2bf8-4158-9b7f-a02021d3ae66",
   "metadata": {},
   "outputs": [],
   "source": [
    "def fun(n):\n",
    "    if n%2==0 and n%3==0:\n",
    "        return n"
   ]
  },
  {
   "cell_type": "markdown",
   "id": "7f90578d-12aa-4e8f-8a6e-4ca2dee71dab",
   "metadata": {},
   "source": [
    "## Q6. Write a python program to find palindromes in the given list of strings using lambda and filter function.\n",
    "['python', 'php', 'aba', 'radar', 'level']"
   ]
  },
  {
   "cell_type": "code",
   "execution_count": null,
   "id": "64511ff1-f1da-4fe8-9bd0-24856558674b",
   "metadata": {},
   "outputs": [],
   "source": [
    "s=['python', 'php', 'aba', 'radar', 'level']\n"
   ]
  },
  {
   "cell_type": "code",
   "execution_count": null,
   "id": "f615efc8-4c98-4b1b-abb5-1ddf28eed579",
   "metadata": {},
   "outputs": [],
   "source": [
    "s."
   ]
  }
 ],
 "metadata": {
  "kernelspec": {
   "display_name": "Python 3 (ipykernel)",
   "language": "python",
   "name": "python3"
  },
  "language_info": {
   "codemirror_mode": {
    "name": "ipython",
    "version": 3
   },
   "file_extension": ".py",
   "mimetype": "text/x-python",
   "name": "python",
   "nbconvert_exporter": "python",
   "pygments_lexer": "ipython3",
   "version": "3.10.8"
  }
 },
 "nbformat": 4,
 "nbformat_minor": 5
}
